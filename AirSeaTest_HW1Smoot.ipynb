{
 "cells": [
  {
   "cell_type": "code",
   "execution_count": 2,
   "metadata": {},
   "outputs": [
    {
     "name": "stdout",
     "output_type": "stream",
     "text": [
      "run  U   |ustar| ustar1 ustar2 tstar   qstar     zref/L     cp     wa   Hsig   tau1   tau2    shf   lhf    u(z)   t(z)   q(z)\n",
      " 1 12.00  0.519  0.519  0.000 -0.0545 -0.000214  0.00000   3.66   7.06  0.01  0.314  0.000  33.92 314.38  12.01  26.20  0.021\n",
      " 2  0.60  0.600  0.600  0.000 -0.0536 -0.000210  0.00000   3.78   6.30  0.01  0.419  0.000  38.53 357.57  13.45  26.20  0.021\n",
      " 3  0.45  0.622  0.622  0.000 -0.0533 -0.000209  0.00000   3.80   6.12  0.01  0.450  0.000  39.76 369.01  13.82  26.20  0.021\n",
      " 4 12.00  0.519  0.519  0.000 -0.0545 -0.000214  0.00000   3.66   7.06  0.01  0.314  0.000  33.92 314.38  12.01  26.20  0.021\n",
      " 5  0.60  0.600  0.600  0.000 -0.0536 -0.000210  0.00000   3.78   6.30  0.01  0.419  0.000  38.53 357.57  13.45  26.20  0.021\n",
      " 6  0.45  0.622  0.622  0.000 -0.0533 -0.000209  0.00000   3.80   6.12  0.01  0.450  0.000  39.76 369.01  13.82  26.20  0.021\n"
     ]
    },
    {
     "ename": "IndexError",
     "evalue": "list index out of range",
     "output_type": "error",
     "traceback": [
      "\u001b[1;31m---------------------------------------------------------------------------\u001b[0m",
      "\u001b[1;31mIndexError\u001b[0m                                Traceback (most recent call last)",
      "\u001b[1;32m<ipython-input-2-4fe0b0e14215>\u001b[0m in \u001b[0;36m<module>\u001b[1;34m\u001b[0m\n\u001b[0;32m     33\u001b[0m     \u001b[0mdata_in_row\u001b[0m \u001b[1;33m=\u001b[0m \u001b[0mdata_file\u001b[0m\u001b[1;33m.\u001b[0m\u001b[0mreadline\u001b[0m\u001b[1;33m(\u001b[0m\u001b[1;33m)\u001b[0m\u001b[1;33m.\u001b[0m\u001b[0msplit\u001b[0m\u001b[1;33m(\u001b[0m\u001b[1;33m)\u001b[0m\u001b[1;33m\u001b[0m\u001b[1;33m\u001b[0m\u001b[0m\n\u001b[0;32m     34\u001b[0m     \u001b[1;32mfor\u001b[0m \u001b[0ma\u001b[0m \u001b[1;32min\u001b[0m \u001b[1;33m[\u001b[0m\u001b[1;36m2\u001b[0m\u001b[1;33m,\u001b[0m \u001b[1;36m3\u001b[0m\u001b[1;33m,\u001b[0m \u001b[1;36m5\u001b[0m\u001b[1;33m,\u001b[0m \u001b[1;36m7\u001b[0m\u001b[1;33m,\u001b[0m \u001b[1;36m9\u001b[0m\u001b[1;33m,\u001b[0m \u001b[1;36m10\u001b[0m\u001b[1;33m,\u001b[0m \u001b[1;36m11\u001b[0m\u001b[1;33m,\u001b[0m \u001b[1;36m12\u001b[0m\u001b[1;33m,\u001b[0m \u001b[1;36m13\u001b[0m\u001b[1;33m,\u001b[0m \u001b[1;36m14\u001b[0m\u001b[1;33m,\u001b[0m \u001b[1;36m15\u001b[0m\u001b[1;33m,\u001b[0m \u001b[1;36m16\u001b[0m\u001b[1;33m]\u001b[0m\u001b[1;33m:\u001b[0m\u001b[1;33m\u001b[0m\u001b[1;33m\u001b[0m\u001b[0m\n\u001b[1;32m---> 35\u001b[1;33m         \u001b[0mdata_in_row\u001b[0m\u001b[1;33m[\u001b[0m\u001b[0ma\u001b[0m\u001b[1;33m]\u001b[0m \u001b[1;33m=\u001b[0m \u001b[0mfloat\u001b[0m\u001b[1;33m(\u001b[0m\u001b[0mdata_in_row\u001b[0m\u001b[1;33m[\u001b[0m\u001b[0ma\u001b[0m\u001b[1;33m]\u001b[0m\u001b[1;33m)\u001b[0m\u001b[1;33m\u001b[0m\u001b[1;33m\u001b[0m\u001b[0m\n\u001b[0m\u001b[0;32m     36\u001b[0m     \u001b[1;32mfor\u001b[0m \u001b[0mb\u001b[0m \u001b[1;32min\u001b[0m \u001b[1;33m[\u001b[0m\u001b[1;36m0\u001b[0m\u001b[1;33m,\u001b[0m \u001b[1;36m1\u001b[0m\u001b[1;33m,\u001b[0m \u001b[1;36m4\u001b[0m\u001b[1;33m,\u001b[0m \u001b[1;36m6\u001b[0m\u001b[1;33m,\u001b[0m \u001b[1;36m8\u001b[0m\u001b[1;33m,\u001b[0m \u001b[1;36m17\u001b[0m\u001b[1;33m]\u001b[0m\u001b[1;33m:\u001b[0m\u001b[1;33m\u001b[0m\u001b[1;33m\u001b[0m\u001b[0m\n\u001b[0;32m     37\u001b[0m         \u001b[0mdata_in_row\u001b[0m\u001b[1;33m[\u001b[0m\u001b[0mb\u001b[0m\u001b[1;33m]\u001b[0m \u001b[1;33m=\u001b[0m \u001b[0mint\u001b[0m\u001b[1;33m(\u001b[0m\u001b[0mdata_in_row\u001b[0m\u001b[1;33m[\u001b[0m\u001b[0mb\u001b[0m\u001b[1;33m]\u001b[0m\u001b[1;33m)\u001b[0m\u001b[1;33m\u001b[0m\u001b[1;33m\u001b[0m\u001b[0m\n",
      "\u001b[1;31mIndexError\u001b[0m: list index out of range"
     ]
    }
   ],
   "source": [
    "from __future__ import print_function\n",
    "from MFT import *\n",
    "import sys\n",
    "\n",
    "CONV_CRIT = 0.00005     #convergence critereon (fractional change)  []  \n",
    "CONVECT = 0.0          #convective parameter  \n",
    "warn = 1                #warning are given     \n",
    "eqv_neut = 0            #output winds are winds rather than equivalent neutral winds  \n",
    "z_wanted = 10.0         #height to which winds, potential temp, and humidity are adjusted                                \n",
    "flux_model = 9          #BVW model=0  \n",
    "Qnet = 5.0\n",
    "sst_prm = 0\n",
    "z0_mom_prm = 0\n",
    "z0_TQ_prm = 0\n",
    "stable_prm = 0\n",
    "wind_ang = 0\n",
    "wave_ang = 0\n",
    "\n",
    "\n",
    "pass_by_ref_params = {'shf':0, 'lhf':0, 'tau':[0,0], 'u_star':[0,0], 't_star':0, 'q_star':0, 'z_over_L':0, 'wave_age':0, 'dom_phs_spd':0,\n",
    "                        'h_sig':0, 'ww_stab':0, 'zo_m':[0, 0], 'u_at_z':0, 't_at_z':0, 'q_at_z':0}\n",
    "    \n",
    "try:\n",
    "    data_file = open(\"testdatav2.dat\", \"r\")\n",
    "    #data_file = open(\"testdata12.dat\", \"r\")\n",
    "except IOError:\n",
    "    print(\"Could not read file.\")\n",
    "    sys.exit()\n",
    "        \n",
    "data_file.readline()\n",
    "print( \"run  U   |ustar| ustar1 ustar2 tstar   qstar     zref/L     cp     wa   Hsig   tau1   tau2    shf   lhf    u(z)   t(z)   q(z)\")\n",
    "#change 62 to 5 (0-5)\n",
    "for x in range(0,62):\n",
    "    data_in_row = data_file.readline().split()\n",
    "    for a in [2, 3, 5, 7, 9, 10, 11, 12, 13, 14, 15, 16]:\n",
    "        data_in_row[a] = float(data_in_row[a])\n",
    "    for b in [0, 1, 4, 6, 8, 17]:\n",
    "        data_in_row[b] = int(data_in_row[b])\n",
    "        \n",
    "    if len(data_in_row) == 18 :  \n",
    "        num, dyn_in_prm, dyn_in_val, dyn_in_val2, ss_prm, ss_val, air_moist_prm, air_moist_val, sfc_moist_prm, sfc_moist_val, t_skin, t_air, ref_ht_wind, ref_ht_tq, pressure, salinity, CONVECT, astab = data_in_row\n",
    "        wind_ang = wind_ang - 270.0;\n",
    "        wave_ang = wave_ang - 90;\n",
    "            \n",
    "        count = ht_adj_( dyn_in_prm, dyn_in_val, dyn_in_val2, CONVECT, CONV_CRIT,\n",
    "                pressure, air_moist_prm, air_moist_val, sfc_moist_prm, sfc_moist_val,\n",
    "                salinity, ss_prm, ss_val, t_air, sst_prm, t_skin, ref_ht_wind, ref_ht_tq,\n",
    "                z_wanted, astab, eqv_neut, Qnet, warn, flux_model, z0_mom_prm, z0_TQ_prm, stable_prm,\n",
    "                pass_by_ref_params );\n",
    "        \n",
    "        if count <= 1 :\n",
    "            print(\"non-convergence:\" )\n",
    "\n",
    "        print( \"%2i %5.2f %6.3f %6.3f %6.3f %7.4f %9.6f %8.5f %6.2f %6.2f %5.2f %6.3f %6.3f %6.2f %6.2f %6.2f %6.2f %6.3f\" %\n",
    "            (x+1, dyn_in_val, m.sqrt( pass_by_ref_params['u_star'][0] * pass_by_ref_params['u_star'][0] + pass_by_ref_params['u_star'][1] * pass_by_ref_params['u_star'][1] ),\n",
    "            pass_by_ref_params['u_star'][0], pass_by_ref_params['u_star'][1], pass_by_ref_params['t_star'], pass_by_ref_params['q_star'],\n",
    "            pass_by_ref_params['z_over_L'], pass_by_ref_params['dom_phs_spd'],\n",
    "            pass_by_ref_params['wave_age'], pass_by_ref_params['h_sig'], pass_by_ref_params['tau'][0], pass_by_ref_params['tau'][1],\n",
    "            pass_by_ref_params['shf'], pass_by_ref_params['lhf'], pass_by_ref_params['u_at_z'], pass_by_ref_params['t_at_z'],\n",
    "            pass_by_ref_params['q_at_z']), sep=\"\")\n"
   ]
  },
  {
   "cell_type": "code",
   "execution_count": null,
   "metadata": {},
   "outputs": [],
   "source": []
  }
 ],
 "metadata": {
  "kernelspec": {
   "display_name": "Python 3",
   "language": "python",
   "name": "python3"
  },
  "language_info": {
   "codemirror_mode": {
    "name": "ipython",
    "version": 3
   },
   "file_extension": ".py",
   "mimetype": "text/x-python",
   "name": "python",
   "nbconvert_exporter": "python",
   "pygments_lexer": "ipython3",
   "version": "3.8.3"
  }
 },
 "nbformat": 4,
 "nbformat_minor": 4
}
